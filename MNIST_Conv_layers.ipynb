{
  "nbformat": 4,
  "nbformat_minor": 0,
  "metadata": {
    "colab": {
      "name": "MNIST-Conv layers.ipynb",
      "version": "0.3.2",
      "views": {},
      "default_view": {},
      "provenance": []
    },
    "kernelspec": {
      "display_name": "Python 3",
      "language": "python",
      "name": "python3"
    },
    "accelerator": "GPU"
  },
  "cells": [
    {
      "metadata": {
        "id": "wkU1aQJRlC6u",
        "colab_type": "code",
        "colab": {
          "autoexec": {
            "startup": false,
            "wait_interval": 0
          }
        }
      },
      "cell_type": "code",
      "source": [
        "import tensorflow as tf "
      ],
      "execution_count": 0,
      "outputs": []
    },
    {
      "metadata": {
        "id": "ly5cDiaolC63",
        "colab_type": "code",
        "colab": {
          "autoexec": {
            "startup": false,
            "wait_interval": 0
          },
          "base_uri": "https://localhost:8080/",
          "height": 530
        },
        "outputId": "51cec029-5747-40de-b4f2-b85875d8c82f",
        "executionInfo": {
          "status": "ok",
          "timestamp": 1531920621859,
          "user_tz": -330,
          "elapsed": 10494,
          "user": {
            "displayName": "Pawan Akhil Dasari",
            "photoUrl": "https://lh3.googleusercontent.com/a/default-user=s128",
            "userId": "108516998674358945902"
          }
        }
      },
      "cell_type": "code",
      "source": [
        "from tensorflow.examples.tutorials.mnist import input_data\n",
        "mnist = input_data.read_data_sets(\"MNIST_data/\", one_hot=True)"
      ],
      "execution_count": 2,
      "outputs": [
        {
          "output_type": "stream",
          "text": [
            "WARNING:tensorflow:From <ipython-input-2-8bf8ae5a5303>:2: read_data_sets (from tensorflow.contrib.learn.python.learn.datasets.mnist) is deprecated and will be removed in a future version.\n",
            "Instructions for updating:\n",
            "Please use alternatives such as official/mnist/dataset.py from tensorflow/models.\n",
            "WARNING:tensorflow:From /usr/local/lib/python3.6/dist-packages/tensorflow/contrib/learn/python/learn/datasets/mnist.py:260: maybe_download (from tensorflow.contrib.learn.python.learn.datasets.base) is deprecated and will be removed in a future version.\n",
            "Instructions for updating:\n",
            "Please write your own downloading logic.\n",
            "WARNING:tensorflow:From /usr/local/lib/python3.6/dist-packages/tensorflow/contrib/learn/python/learn/datasets/base.py:252: _internal_retry.<locals>.wrap.<locals>.wrapped_fn (from tensorflow.contrib.learn.python.learn.datasets.base) is deprecated and will be removed in a future version.\n",
            "Instructions for updating:\n",
            "Please use urllib or similar directly.\n",
            "Successfully downloaded train-images-idx3-ubyte.gz 9912422 bytes.\n",
            "WARNING:tensorflow:From /usr/local/lib/python3.6/dist-packages/tensorflow/contrib/learn/python/learn/datasets/mnist.py:262: extract_images (from tensorflow.contrib.learn.python.learn.datasets.mnist) is deprecated and will be removed in a future version.\n",
            "Instructions for updating:\n",
            "Please use tf.data to implement this functionality.\n",
            "Extracting MNIST_data/train-images-idx3-ubyte.gz\n",
            "Successfully downloaded train-labels-idx1-ubyte.gz 28881 bytes.\n",
            "WARNING:tensorflow:From /usr/local/lib/python3.6/dist-packages/tensorflow/contrib/learn/python/learn/datasets/mnist.py:267: extract_labels (from tensorflow.contrib.learn.python.learn.datasets.mnist) is deprecated and will be removed in a future version.\n",
            "Instructions for updating:\n",
            "Please use tf.data to implement this functionality.\n",
            "Extracting MNIST_data/train-labels-idx1-ubyte.gz\n",
            "WARNING:tensorflow:From /usr/local/lib/python3.6/dist-packages/tensorflow/contrib/learn/python/learn/datasets/mnist.py:110: dense_to_one_hot (from tensorflow.contrib.learn.python.learn.datasets.mnist) is deprecated and will be removed in a future version.\n",
            "Instructions for updating:\n",
            "Please use tf.one_hot on tensors.\n",
            "Successfully downloaded t10k-images-idx3-ubyte.gz 1648877 bytes.\n",
            "Extracting MNIST_data/t10k-images-idx3-ubyte.gz\n",
            "Successfully downloaded t10k-labels-idx1-ubyte.gz 4542 bytes.\n",
            "Extracting MNIST_data/t10k-labels-idx1-ubyte.gz\n",
            "WARNING:tensorflow:From /usr/local/lib/python3.6/dist-packages/tensorflow/contrib/learn/python/learn/datasets/mnist.py:290: DataSet.__init__ (from tensorflow.contrib.learn.python.learn.datasets.mnist) is deprecated and will be removed in a future version.\n",
            "Instructions for updating:\n",
            "Please use alternatives such as official/mnist/dataset.py from tensorflow/models.\n"
          ],
          "name": "stdout"
        }
      ]
    },
    {
      "metadata": {
        "id": "Khb_CY-UlC68",
        "colab_type": "code",
        "colab": {
          "autoexec": {
            "startup": false,
            "wait_interval": 0
          }
        }
      },
      "cell_type": "code",
      "source": [
        "def layer(input,weight_shape , bias_shape):\n",
        "    weightdev=(2.0/weight_shape[0])**0.5\n",
        "    winit=tf.random_normal_initializer(stddev=weightdev)\n",
        "    binit=tf.constant_initializer(value=0)\n",
        "    W=tf.get_variable(shape=weight_shape , initializer=winit,dtype='float32',name='weight')\n",
        "    b=tf.get_variable(shape=bias_shape , initializer=binit ,dtype='float32',name='bias')\n",
        "    output = tf.nn.relu(tf.matmul(input,W)+b)\n",
        "    return output "
      ],
      "execution_count": 0,
      "outputs": []
    },
    {
      "metadata": {
        "id": "nTsy3qrIlC7B",
        "colab_type": "code",
        "colab": {
          "autoexec": {
            "startup": false,
            "wait_interval": 0
          }
        }
      },
      "cell_type": "code",
      "source": [
        "def conv2d(input , weight_shape , bias_shape):\n",
        "    inn = weight_shape[0] * weight_shape[1] * weight_shape[2]\n",
        "    weight_init = tf.random_normal_initializer(stddev=\n",
        "                                              (2.0/inn)**0.5)\n",
        "    bias_init=tf.constant_initializer(value=0)\n",
        "    W=tf.get_variable(name='weight',shape=weight_shape,initializer=weight_init,dtype='float32')\n",
        "    b=tf.get_variable(name='bias',shape=bias_shape,initializer=bias_init,dtype='float32')\n",
        "    out=tf.nn.conv2d(input,filter=W,strides=[1,1,1,1],padding='SAME',name='conv')\n",
        "    return tf.nn.relu(tf.nn.bias_add(out,b))"
      ],
      "execution_count": 0,
      "outputs": []
    },
    {
      "metadata": {
        "id": "5LQI6xo9lC7E",
        "colab_type": "code",
        "colab": {
          "autoexec": {
            "startup": false,
            "wait_interval": 0
          }
        }
      },
      "cell_type": "code",
      "source": [
        "def maxpool(input,k=2):\n",
        "    return tf.nn.max_pool(input,ksize=[1,k,k,1],strides=[1,k,k,1],padding='SAME')"
      ],
      "execution_count": 0,
      "outputs": []
    },
    {
      "metadata": {
        "id": "15imp6s1lC7H",
        "colab_type": "code",
        "colab": {
          "autoexec": {
            "startup": false,
            "wait_interval": 0
          }
        }
      },
      "cell_type": "code",
      "source": [
        "def inference(X,keep_prob):\n",
        "    x=tf.reshape(X, shape=[-1,28,28,1])\n",
        "    with tf.variable_scope(\"conv1\"):\n",
        "        conv1=conv2d(x,[5,5,1,32],[32])\n",
        "        pool1=maxpool(conv1)\n",
        "    with tf.variable_scope(\"conv2\"):\n",
        "        conv2=conv2d(pool1,[5,5,32,64],[64])\n",
        "        pool2=maxpool(conv2)\n",
        "    with tf.variable_scope(\"fc\"):\n",
        "        pool1_flat=tf.reshape(pool2,shape=[-1,7*7*64])\n",
        "        fc_1=layer(pool1_flat,[7*7*64,1024],[1024])\n",
        "        fc_drop=tf.nn.dropout(fc_1,keep_prob)\n",
        "    with tf.variable_scope(\"output\"):\n",
        "        output=layer(fc_drop,[1024,10],[10])\n",
        "    return output"
      ],
      "execution_count": 0,
      "outputs": []
    },
    {
      "metadata": {
        "id": "NTXpRg9blC7L",
        "colab_type": "code",
        "colab": {
          "autoexec": {
            "startup": false,
            "wait_interval": 0
          }
        }
      },
      "cell_type": "code",
      "source": [
        "x=tf.placeholder(dtype='float32',shape=[None, 784 ])\n",
        "y=tf.placeholder(dtype='float32',shape=[None , 10])"
      ],
      "execution_count": 0,
      "outputs": []
    },
    {
      "metadata": {
        "id": "xZKQE0i2lC7P",
        "colab_type": "code",
        "colab": {
          "autoexec": {
            "startup": false,
            "wait_interval": 0
          }
        }
      },
      "cell_type": "code",
      "source": [
        "y_=inference(x,keep_prob=0.5)"
      ],
      "execution_count": 0,
      "outputs": []
    },
    {
      "metadata": {
        "id": "2mVDqu7SlC7T",
        "colab_type": "code",
        "colab": {
          "autoexec": {
            "startup": false,
            "wait_interval": 0
          },
          "base_uri": "https://localhost:8080/",
          "height": 173
        },
        "outputId": "2eee3cc5-b47b-4d31-bcdd-edc26db59696",
        "executionInfo": {
          "status": "ok",
          "timestamp": 1531920648393,
          "user_tz": -330,
          "elapsed": 954,
          "user": {
            "displayName": "Pawan Akhil Dasari",
            "photoUrl": "https://lh3.googleusercontent.com/a/default-user=s128",
            "userId": "108516998674358945902"
          }
        }
      },
      "cell_type": "code",
      "source": [
        "crossentropy=tf.nn.softmax_cross_entropy_with_logits(labels=y,logits=y_)\n",
        "loss=tf.reduce_mean(crossentropy)"
      ],
      "execution_count": 9,
      "outputs": [
        {
          "output_type": "stream",
          "text": [
            "WARNING:tensorflow:From <ipython-input-9-67203cbf5d9c>:1: softmax_cross_entropy_with_logits (from tensorflow.python.ops.nn_ops) is deprecated and will be removed in a future version.\n",
            "Instructions for updating:\n",
            "\n",
            "Future major versions of TensorFlow will allow gradients to flow\n",
            "into the labels input on backprop by default.\n",
            "\n",
            "See @{tf.nn.softmax_cross_entropy_with_logits_v2}.\n",
            "\n"
          ],
          "name": "stdout"
        }
      ]
    },
    {
      "metadata": {
        "id": "vCKNwZhxlC7a",
        "colab_type": "code",
        "colab": {
          "autoexec": {
            "startup": false,
            "wait_interval": 0
          }
        }
      },
      "cell_type": "code",
      "source": [
        "train_op=tf.train.AdamOptimizer(1e-4).minimize(loss)\n"
      ],
      "execution_count": 0,
      "outputs": []
    },
    {
      "metadata": {
        "id": "WcXMpeE5lC7g",
        "colab_type": "code",
        "colab": {
          "autoexec": {
            "startup": false,
            "wait_interval": 0
          },
          "base_uri": "https://localhost:8080/",
          "height": 71
        },
        "outputId": "b6cc0789-5743-4ba7-849d-5ab3ef647d2e",
        "executionInfo": {
          "status": "ok",
          "timestamp": 1531920775844,
          "user_tz": -330,
          "elapsed": 973,
          "user": {
            "displayName": "Pawan Akhil Dasari",
            "photoUrl": "https://lh3.googleusercontent.com/a/default-user=s128",
            "userId": "108516998674358945902"
          }
        }
      },
      "cell_type": "code",
      "source": [
        "sess=tf.InteractiveSession()\n",
        "tf.global_variables_initializer().run()"
      ],
      "execution_count": 19,
      "outputs": [
        {
          "output_type": "stream",
          "text": [
            "/usr/local/lib/python3.6/dist-packages/tensorflow/python/client/session.py:1714: UserWarning: An interactive session is already active. This can cause out-of-memory errors in some cases. You must explicitly call `InteractiveSession.close()` to release resources held by the other session(s).\n",
            "  warnings.warn('An interactive session is already active. This can '\n"
          ],
          "name": "stderr"
        }
      ]
    },
    {
      "metadata": {
        "id": "pB48ajbxlC7j",
        "colab_type": "code",
        "colab": {
          "autoexec": {
            "startup": false,
            "wait_interval": 0
          }
        }
      },
      "cell_type": "code",
      "source": [
        "for i in range(20000):\n",
        "    batch_xs , batch_ys =mnist.train.next_batch(100)\n",
        "    sess.run(train_op ,feed_dict={x : batch_xs , y : batch_ys})"
      ],
      "execution_count": 0,
      "outputs": []
    },
    {
      "metadata": {
        "id": "CmccG0fFlC7o",
        "colab_type": "code",
        "colab": {
          "autoexec": {
            "startup": false,
            "wait_interval": 0
          }
        }
      },
      "cell_type": "code",
      "source": [
        "correct_pred=tf.equal(tf.argmax(y,1),tf.argmax(y_,1))\n",
        "accuracy=tf.reduce_mean(tf.cast(correct_pred , tf.float32))"
      ],
      "execution_count": 0,
      "outputs": []
    },
    {
      "metadata": {
        "id": "XzcezpKulC7t",
        "colab_type": "code",
        "colab": {
          "autoexec": {
            "startup": false,
            "wait_interval": 0
          },
          "base_uri": "https://localhost:8080/",
          "height": 34
        },
        "outputId": "82513c56-e555-4df8-e0b8-70ef92a62e1a",
        "executionInfo": {
          "status": "ok",
          "timestamp": 1531921113380,
          "user_tz": -330,
          "elapsed": 1014,
          "user": {
            "displayName": "Pawan Akhil Dasari",
            "photoUrl": "https://lh3.googleusercontent.com/a/default-user=s128",
            "userId": "108516998674358945902"
          }
        }
      },
      "cell_type": "code",
      "source": [
        "print (sess.run(accuracy,feed_dict={x:mnist.test.images , y : mnist.test.labels}))"
      ],
      "execution_count": 22,
      "outputs": [
        {
          "output_type": "stream",
          "text": [
            "0.9925\n"
          ],
          "name": "stdout"
        }
      ]
    }
  ]
}